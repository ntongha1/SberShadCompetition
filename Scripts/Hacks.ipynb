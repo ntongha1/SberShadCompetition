{
 "cells": [
  {
   "cell_type": "code",
   "execution_count": 2,
   "metadata": {},
   "outputs": [],
   "source": [
    "from xgboost import XGBRegressor\n",
    "\n",
    "import pandas as pd\n",
    "import numpy as np\n",
    "\n",
    "pd.set_option(\"display.max_rows\", 100)\n",
    "pd.set_option('display.max_columns', 200)\n",
    "\n",
    "import warnings\n",
    "warnings.filterwarnings('ignore')\n",
    "%config InlineBackend.figure_format = 'svg'\n",
    "\n",
    "from tqdm import tqdm\n",
    "\n",
    "from statsmodels.tsa.tsatools import lagmat\n",
    "\n",
    "import matplotlib.pylab as plt\n",
    "%matplotlib inline"
   ]
  },
  {
   "cell_type": "code",
   "execution_count": 5,
   "metadata": {},
   "outputs": [
    {
     "name": "stderr",
     "output_type": "stream",
     "text": [
      "100%|██████████| 3/3 [00:00<00:00,  1.91it/s]\n"
     ]
    },
    {
     "data": {
      "text/html": [
       "<div>\n",
       "<style>\n",
       "    .dataframe thead tr:only-child th {\n",
       "        text-align: right;\n",
       "    }\n",
       "\n",
       "    .dataframe thead th {\n",
       "        text-align: left;\n",
       "    }\n",
       "\n",
       "    .dataframe tbody tr th {\n",
       "        vertical-align: top;\n",
       "    }\n",
       "</style>\n",
       "<table border=\"1\" class=\"dataframe\">\n",
       "  <thead>\n",
       "    <tr style=\"text-align: right;\">\n",
       "      <th></th>\n",
       "      <th>mcc_code</th>\n",
       "      <th>day</th>\n",
       "      <th>week_num</th>\n",
       "      <th>week_day</th>\n",
       "      <th>month_num</th>\n",
       "      <th>month_day</th>\n",
       "      <th>neg_amount</th>\n",
       "      <th>pos_amount</th>\n",
       "      <th>n_transactions</th>\n",
       "      <th>log_neg_amount</th>\n",
       "      <th>log_pos_amount</th>\n",
       "    </tr>\n",
       "  </thead>\n",
       "  <tbody>\n",
       "    <tr>\n",
       "      <th>0</th>\n",
       "      <td>4814</td>\n",
       "      <td>0</td>\n",
       "      <td>-1</td>\n",
       "      <td>5</td>\n",
       "      <td>0</td>\n",
       "      <td>0</td>\n",
       "      <td>11098744</td>\n",
       "      <td>0</td>\n",
       "      <td>2365</td>\n",
       "      <td>16.222343</td>\n",
       "      <td>0.0</td>\n",
       "    </tr>\n",
       "    <tr>\n",
       "      <th>1</th>\n",
       "      <td>4814</td>\n",
       "      <td>1</td>\n",
       "      <td>-1</td>\n",
       "      <td>6</td>\n",
       "      <td>0</td>\n",
       "      <td>1</td>\n",
       "      <td>7881825</td>\n",
       "      <td>0</td>\n",
       "      <td>1697</td>\n",
       "      <td>15.880070</td>\n",
       "      <td>0.0</td>\n",
       "    </tr>\n",
       "    <tr>\n",
       "      <th>2</th>\n",
       "      <td>4814</td>\n",
       "      <td>2</td>\n",
       "      <td>0</td>\n",
       "      <td>0</td>\n",
       "      <td>0</td>\n",
       "      <td>2</td>\n",
       "      <td>6777480</td>\n",
       "      <td>0</td>\n",
       "      <td>1524</td>\n",
       "      <td>15.729116</td>\n",
       "      <td>0.0</td>\n",
       "    </tr>\n",
       "    <tr>\n",
       "      <th>3</th>\n",
       "      <td>4814</td>\n",
       "      <td>3</td>\n",
       "      <td>0</td>\n",
       "      <td>1</td>\n",
       "      <td>0</td>\n",
       "      <td>3</td>\n",
       "      <td>9277943</td>\n",
       "      <td>0</td>\n",
       "      <td>1937</td>\n",
       "      <td>16.043151</td>\n",
       "      <td>0.0</td>\n",
       "    </tr>\n",
       "    <tr>\n",
       "      <th>4</th>\n",
       "      <td>4814</td>\n",
       "      <td>4</td>\n",
       "      <td>0</td>\n",
       "      <td>2</td>\n",
       "      <td>0</td>\n",
       "      <td>4</td>\n",
       "      <td>9999757</td>\n",
       "      <td>0</td>\n",
       "      <td>1943</td>\n",
       "      <td>16.118071</td>\n",
       "      <td>0.0</td>\n",
       "    </tr>\n",
       "  </tbody>\n",
       "</table>\n",
       "</div>"
      ],
      "text/plain": [
       "   mcc_code  day  week_num  week_day  month_num  month_day  neg_amount  \\\n",
       "0      4814    0        -1         5          0          0    11098744   \n",
       "1      4814    1        -1         6          0          1     7881825   \n",
       "2      4814    2         0         0          0          2     6777480   \n",
       "3      4814    3         0         1          0          3     9277943   \n",
       "4      4814    4         0         2          0          4     9999757   \n",
       "\n",
       "   pos_amount  n_transactions  log_neg_amount  log_pos_amount  \n",
       "0           0            2365       16.222343             0.0  \n",
       "1           0            1697       15.880070             0.0  \n",
       "2           0            1524       15.729116             0.0  \n",
       "3           0            1937       16.043151             0.0  \n",
       "4           0            1943       16.118071             0.0  "
      ]
     },
     "execution_count": 5,
     "metadata": {},
     "output_type": "execute_result"
    }
   ],
   "source": [
    "transactions = pd.read_csv('transactions.csv')\n",
    "transactions['day'] = transactions.tr_datetime.apply(lambda dt: dt.split()[0]).astype(int)\n",
    "\n",
    "# transactions.amount = transactions.amount.astype(np.float128)\n",
    "transactions['pos_amount'] = transactions.amount.apply(lambda x: 0 if x<0 else np.log(x + 1))\n",
    "transactions['neg_amount'] = transactions.amount.apply(lambda x: 0 if x>0 else -x)\n",
    "\n",
    "transactions.drop(['amount', 'term_id', 'tr_datetime'], 1, inplace=True)\n",
    "\n",
    "test_transactions = pd.DataFrame(columns=transactions.mcc_code.unique(), \n",
    "                                 index=np.arange(1, 31) + transactions.day.max())\n",
    "test_transactions = test_transactions.unstack().reset_index().dropna(axis=1)\n",
    "test_transactions.columns = ['mcc_code', 'day']\n",
    "\n",
    "\n",
    "train_grid = pd.DataFrame(columns=transactions.mcc_code.unique(), \n",
    "                          index=transactions.day.unique())\n",
    "train_grid = train_grid.unstack().reset_index().dropna(axis=1)\n",
    "train_grid.columns = ['mcc_code', 'day']\n",
    "\n",
    "for tr_table in tqdm([transactions, test_transactions, train_grid]):\n",
    "    tr_table['week_num'] = (tr_table['day'] - 2) // 7\n",
    "    tr_table['week_day'] = (tr_table['day'] - 2) % 7\n",
    "    tr_table['month_num'] = tr_table['day'] // 28\n",
    "    tr_table['month_day'] = tr_table['day'] % 28\n",
    "    \n",
    "merge_col_names = ['day', 'week_num', 'week_day', 'month_num', 'month_day', 'mcc_code']\n",
    "\n",
    "train_transactions = pd.merge(\n",
    "    train_grid,\n",
    "    transactions.groupby(merge_col_names)[['neg_amount', 'pos_amount']].sum().reset_index(),\n",
    "    how='left').fillna(0)\n",
    "\n",
    "train_transactions = pd.merge(\n",
    "    train_transactions,\n",
    "    transactions.groupby(merge_col_names)[['customer_id']].count().reset_index(),\n",
    "    how='left').fillna(0).astype(np.int32)\n",
    "train_transactions.columns = np.hstack([train_transactions.columns[:-1], ['n_transactions']])\n",
    "\n",
    "train_transactions['log_neg_amount'] = train_transactions.neg_amount.apply(lambda x: np.log(x + 1))\n",
    "train_transactions['log_pos_amount'] = train_transactions.pos_amount.apply(lambda x: np.log(x + 1))\n",
    "train_transactions.head()"
   ]
  },
  {
   "cell_type": "code",
   "execution_count": 14,
   "metadata": {},
   "outputs": [
    {
     "data": {
      "text/plain": [
       "0.31986728189515745"
      ]
     },
     "execution_count": 14,
     "metadata": {},
     "output_type": "execute_result"
    }
   ],
   "source": [
    "train_transactions[train_transactions.neg_amount == 0].shape[0] / train_transactions.shape[0]"
   ]
  },
  {
   "cell_type": "code",
   "execution_count": 19,
   "metadata": {},
   "outputs": [
    {
     "data": {
      "text/plain": [
       "100.75219345092773"
      ]
     },
     "execution_count": 19,
     "metadata": {},
     "output_type": "execute_result"
    }
   ],
   "source": [
    "submit = pd.read_csv('agile_n_trans_xgb_neg.csv')\n",
    "submit.volume.quantile(0.25)"
   ]
  },
  {
   "cell_type": "code",
   "execution_count": 21,
   "metadata": {},
   "outputs": [],
   "source": [
    "submit.volume = submit.volume.apply(lambda x: 0 if x<100 else x)\n",
    "submit.to_csv('hack-submit.csv', index=None)"
   ]
  }
 ],
 "metadata": {
  "kernelspec": {
   "display_name": "Python 3",
   "language": "python",
   "name": "python3"
  },
  "language_info": {
   "codemirror_mode": {
    "name": "ipython",
    "version": 3
   },
   "file_extension": ".py",
   "mimetype": "text/x-python",
   "name": "python",
   "nbconvert_exporter": "python",
   "pygments_lexer": "ipython3",
   "version": "3.6.1"
  }
 },
 "nbformat": 4,
 "nbformat_minor": 2
}
